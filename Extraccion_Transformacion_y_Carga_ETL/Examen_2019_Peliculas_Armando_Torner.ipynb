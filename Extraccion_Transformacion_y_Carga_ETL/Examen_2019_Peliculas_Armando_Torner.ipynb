{
 "cells": [
  {
   "cell_type": "markdown",
   "metadata": {},
   "source": [
    "# Examen ETL: SPARK 12+1/02"
   ]
  },
  {
   "cell_type": "markdown",
   "metadata": {},
   "source": [
    "## Realizado por: Armando Torner Marchesi"
   ]
  },
  {
   "cell_type": "markdown",
   "metadata": {},
   "source": [
    "Se podrá utilizar toda la información que se encuentra en el campus. \n",
    "\n",
    "Se va a trabajar sobre varios ficheros de datos:\n",
    "\n",
    "Usuarios: id_usuario::sexo::edad::id_profesion::codigo_postal\n",
    "\n",
    "Peliculas: id_pelicula::titulo (año)::tipo1|tipo2|tipo3\n",
    "\n",
    "Ratings: id_pelicula::id_usuario::puntuacion::fecha_timestamp\n",
    "\n",
    "A cada una de las preguntas hay que responder explicando brevemente que se pretende hacer antes de lanzar el código.\n",
    "\n",
    "Al documento lo llamareís con vuestro nombre y apellido. Debeís enviarlo a mi correo de CUNEF antes del final del examen.\n",
    "\n",
    "El lenguaje para trabajar con Spark podrá ser python o R indistintamente."
   ]
  },
  {
   "cell_type": "code",
   "execution_count": 1,
   "metadata": {},
   "outputs": [],
   "source": [
    "# Nota: Carga de las puntuaciones\n",
    "# Función para parsear la fecha\n",
    "\n",
    "from datetime import datetime\n",
    "dateparse = lambda x: datetime.fromtimestamp(float(x))"
   ]
  },
  {
   "cell_type": "markdown",
   "metadata": {},
   "source": [
    "## Primera tarea: Inicializar spark context y cargar los datos desde los ficheros."
   ]
  },
  {
   "cell_type": "code",
   "execution_count": 3,
   "metadata": {},
   "outputs": [],
   "source": [
    "sc.stop()"
   ]
  },
  {
   "cell_type": "code",
   "execution_count": 4,
   "metadata": {},
   "outputs": [],
   "source": [
    "from pyspark import SparkContext\n",
    "sc = SparkContext()"
   ]
  },
  {
   "cell_type": "code",
   "execution_count": 12,
   "metadata": {},
   "outputs": [
    {
     "data": {
      "text/plain": [
       "[\"1::Toy Story (1995)::Animation|Children's|Comedy\",\n",
       " \"2::Jumanji (1995)::Adventure|Children's|Fantasy\",\n",
       " '3::Grumpier Old Men (1995)::Comedy|Romance',\n",
       " '4::Waiting to Exhale (1995)::Comedy|Drama',\n",
       " '5::Father of the Bride Part II (1995)::Comedy']"
      ]
     },
     "execution_count": 12,
     "metadata": {},
     "output_type": "execute_result"
    }
   ],
   "source": [
    "data_file = \"movies.dat.txt\"\n",
    "movies = sc.textFile(data_file)\n",
    "movies.take(5)"
   ]
  },
  {
   "cell_type": "code",
   "execution_count": 13,
   "metadata": {},
   "outputs": [
    {
     "data": {
      "text/plain": [
       "['1::F::1::10::48067',\n",
       " '2::M::56::16::70072',\n",
       " '3::M::25::15::55117',\n",
       " '4::M::45::7::02460',\n",
       " '5::M::25::20::55455']"
      ]
     },
     "execution_count": 13,
     "metadata": {},
     "output_type": "execute_result"
    }
   ],
   "source": [
    "data_file2 = \"users.dat.txt\"\n",
    "users = sc.textFile(data_file2)\n",
    "users.take(5)"
   ]
  },
  {
   "cell_type": "code",
   "execution_count": 14,
   "metadata": {},
   "outputs": [
    {
     "data": {
      "text/plain": [
       "['1::1193::5::978300760',\n",
       " '1::661::3::978302109',\n",
       " '1::914::3::978301968',\n",
       " '1::3408::4::978300275',\n",
       " '1::2355::5::978824291']"
      ]
     },
     "execution_count": 14,
     "metadata": {},
     "output_type": "execute_result"
    }
   ],
   "source": [
    "data_file3 = \"ratings.dat.txt\"\n",
    "ratings = sc.textFile(data_file3)\n",
    "ratings.take(5)"
   ]
  },
  {
   "cell_type": "code",
   "execution_count": 15,
   "metadata": {},
   "outputs": [
    {
     "data": {
      "text/plain": [
       "([['1', 'Toy Story (1995)', \"Animation|Children's|Comedy\"]],\n",
       " [['1', 'F', '1', '10', '48067']],\n",
       " [['1', '1193', 5, 2000]])"
      ]
     },
     "execution_count": 15,
     "metadata": {},
     "output_type": "execute_result"
    }
   ],
   "source": [
    "movies2 = movies.map(lambda x: x.split(\"::\"))\n",
    "users2 = users.map(lambda x: x.split(\"::\"))\n",
    "ratings2 = ratings.map(lambda x: x.split(\"::\")).map(lambda x: [x[0], x[1], int(x[2]), datetime.fromtimestamp(float(x[3])).year])\n",
    "movies2.take(1), users2.take(1), ratings2.take(1)"
   ]
  },
  {
   "cell_type": "markdown",
   "metadata": {},
   "source": [
    "## Segunda tarea: Media de puntuaciones globales por año. ¿Hay algún año significativamente distinto?"
   ]
  },
  {
   "cell_type": "code",
   "execution_count": 16,
   "metadata": {},
   "outputs": [
    {
     "data": {
      "text/plain": [
       "[(2000, 5), (2000, 3), (2000, 3), (2000, 4), (2001, 5)]"
      ]
     },
     "execution_count": 16,
     "metadata": {},
     "output_type": "execute_result"
    }
   ],
   "source": [
    "rating_year = ratings2.map(lambda x: (x[3], x[2]))\n",
    "rating_year.take(5)"
   ]
  },
  {
   "cell_type": "code",
   "execution_count": 17,
   "metadata": {},
   "outputs": [
    {
     "data": {
      "text/plain": [
       "[2000, 2002, 2001, 2003]"
      ]
     },
     "execution_count": 17,
     "metadata": {},
     "output_type": "execute_result"
    }
   ],
   "source": [
    "rating_year.map(lambda x: x[0]).distinct().collect()"
   ]
  },
  {
   "cell_type": "code",
   "execution_count": 18,
   "metadata": {},
   "outputs": [
    {
     "data": {
      "text/plain": [
       "[(2000, 3248314), (2002, 83171), (2001, 239155), (2003, 11673)]"
      ]
     },
     "execution_count": 18,
     "metadata": {},
     "output_type": "execute_result"
    }
   ],
   "source": [
    "suma_ratings = rating_year.reduceByKey(lambda x, y: x + y)\n",
    "suma_ratings.take(4)"
   ]
  },
  {
   "cell_type": "code",
   "execution_count": 19,
   "metadata": {},
   "outputs": [
    {
     "data": {
      "text/plain": [
       "[(2000, 904721), (2002, 24046), (2001, 68094), (2003, 3348)]"
      ]
     },
     "execution_count": 19,
     "metadata": {},
     "output_type": "execute_result"
    }
   ],
   "source": [
    "cantidad = rating_year.map(lambda x: (x[0], 1))\n",
    "cantidad_key = cantidad.reduceByKey(lambda x, y: x + y)\n",
    "cantidad_key.take(4)"
   ]
  },
  {
   "cell_type": "code",
   "execution_count": 20,
   "metadata": {},
   "outputs": [
    {
     "data": {
      "text/plain": [
       "[(2000, (3248314, 904721)),\n",
       " (2002, (83171, 24046)),\n",
       " (2001, (239155, 68094)),\n",
       " (2003, (11673, 3348))]"
      ]
     },
     "execution_count": 20,
     "metadata": {},
     "output_type": "execute_result"
    }
   ],
   "source": [
    "juntos = suma_ratings.join(cantidad_key)\n",
    "juntos.take(5)"
   ]
  },
  {
   "cell_type": "code",
   "execution_count": 21,
   "metadata": {},
   "outputs": [
    {
     "data": {
      "text/plain": [
       "[(2000, 3.59), (2002, 3.46), (2001, 3.51), (2003, 3.49)]"
      ]
     },
     "execution_count": 21,
     "metadata": {},
     "output_type": "execute_result"
    }
   ],
   "source": [
    "media = juntos.map(lambda x: (x[0], round(x[1][0]/x[1][1], 2)))\n",
    "media.take(4)"
   ]
  },
  {
   "cell_type": "markdown",
   "metadata": {},
   "source": [
    "## Tercera pregunta: ¿Cuál es la película más votada por los mayores de 60? "
   ]
  },
  {
   "cell_type": "code",
   "execution_count": 22,
   "metadata": {},
   "outputs": [
    {
     "data": {
      "text/plain": [
       "[['1', 'F', '1', '10', '48067']]"
      ]
     },
     "execution_count": 22,
     "metadata": {},
     "output_type": "execute_result"
    }
   ],
   "source": [
    "users2.take(1)"
   ]
  },
  {
   "cell_type": "code",
   "execution_count": 23,
   "metadata": {},
   "outputs": [
    {
     "data": {
      "text/plain": [
       "[('1', 1), ('2', 56), ('3', 25), ('4', 45), ('5', 25)]"
      ]
     },
     "execution_count": 23,
     "metadata": {},
     "output_type": "execute_result"
    }
   ],
   "source": [
    "users_edad = users2.map(lambda x: (x[0], int(x[2])))\n",
    "users_edad.take(5)"
   ]
  },
  {
   "cell_type": "code",
   "execution_count": 24,
   "metadata": {},
   "outputs": [
    {
     "data": {
      "text/plain": [
       "[]"
      ]
     },
     "execution_count": 24,
     "metadata": {},
     "output_type": "execute_result"
    }
   ],
   "source": [
    "mayores_60 = users_edad.filter(lambda x: x[1] > 60)\n",
    "mayores_60.take(5)"
   ]
  },
  {
   "cell_type": "code",
   "execution_count": 25,
   "metadata": {},
   "outputs": [
    {
     "data": {
      "text/plain": [
       "('2', 56)"
      ]
     },
     "execution_count": 25,
     "metadata": {},
     "output_type": "execute_result"
    }
   ],
   "source": [
    "users_edad.max(lambda x: x[1])"
   ]
  },
  {
   "cell_type": "markdown",
   "metadata": {},
   "source": [
    "Vemos que no hay usuarios mayores de 60 años; el mayor tiene 56 años"
   ]
  },
  {
   "cell_type": "code",
   "execution_count": 26,
   "metadata": {},
   "outputs": [
    {
     "data": {
      "text/plain": [
       "[['1', '1193', 5, 2000]]"
      ]
     },
     "execution_count": 26,
     "metadata": {},
     "output_type": "execute_result"
    }
   ],
   "source": [
    "ratings2.take(1)"
   ]
  },
  {
   "cell_type": "markdown",
   "metadata": {},
   "source": [
    "## Cuarta pregunta: ¿Cuál es la puntuación media de las peliculas de acción del año 2000?"
   ]
  },
  {
   "cell_type": "code",
   "execution_count": 30,
   "metadata": {},
   "outputs": [
    {
     "data": {
      "text/plain": [
       "[['1', 'Toy Story (1995)', \"Animation|Children's|Comedy\"],\n",
       " ['2', 'Jumanji (1995)', \"Adventure|Children's|Fantasy\"],\n",
       " ['3', 'Grumpier Old Men (1995)', 'Comedy|Romance'],\n",
       " ['4', 'Waiting to Exhale (1995)', 'Comedy|Drama'],\n",
       " ['5', 'Father of the Bride Part II (1995)', 'Comedy']]"
      ]
     },
     "execution_count": 30,
     "metadata": {},
     "output_type": "execute_result"
    }
   ],
   "source": [
    "movies2.take(5)"
   ]
  },
  {
   "cell_type": "code",
   "execution_count": 31,
   "metadata": {
    "scrolled": true
   },
   "outputs": [
    {
     "data": {
      "text/plain": [
       "[['6', 'Heat (1995)', 'Action|Crime|Thriller'],\n",
       " ['9', 'Sudden Death (1995)', 'Action'],\n",
       " ['10', 'GoldenEye (1995)', 'Action|Adventure|Thriller'],\n",
       " ['15', 'Cutthroat Island (1995)', 'Action|Adventure|Romance'],\n",
       " ['20', 'Money Train (1995)', 'Action']]"
      ]
     },
     "execution_count": 31,
     "metadata": {},
     "output_type": "execute_result"
    }
   ],
   "source": [
    "pelis_action = movies2.filter(lambda x: 'Action' in x[2])\n",
    "pelis_action.take(5)"
   ]
  },
  {
   "cell_type": "code",
   "execution_count": 32,
   "metadata": {},
   "outputs": [
    {
     "data": {
      "text/plain": [
       "[['1', '1193', 5, 2000],\n",
       " ['1', '661', 3, 2000],\n",
       " ['1', '914', 3, 2000],\n",
       " ['1', '3408', 4, 2000],\n",
       " ['1', '1197', 3, 2000]]"
      ]
     },
     "execution_count": 32,
     "metadata": {},
     "output_type": "execute_result"
    }
   ],
   "source": [
    "ratings_2000 = ratings2.filter(lambda x: x[3] == 2000)\n",
    "ratings_2000.take(5)"
   ]
  },
  {
   "cell_type": "code",
   "execution_count": 33,
   "metadata": {},
   "outputs": [
    {
     "data": {
      "text/plain": [
       "[('1', 167), ('4', 88), ('8', 540), ('9', 396), ('10', 1216)]"
      ]
     },
     "execution_count": 33,
     "metadata": {},
     "output_type": "execute_result"
    }
   ],
   "source": [
    "ratings_2000_red = ratings_2000.map(lambda x: (x[0], x[2]))\n",
    "ratings_2000_key = ratings_2000_red.reduceByKey(lambda x, y: x + y)\n",
    "ratings_2000_key.take(5)"
   ]
  },
  {
   "cell_type": "code",
   "execution_count": 34,
   "metadata": {},
   "outputs": [
    {
     "data": {
      "text/plain": [
       "[('1', 40), ('4', 21), ('8', 139), ('9', 106), ('10', 299)]"
      ]
     },
     "execution_count": 34,
     "metadata": {},
     "output_type": "execute_result"
    }
   ],
   "source": [
    "numero_ratings = ratings_2000.map(lambda x: (x[0], 1))\n",
    "numero_rating_key = numero_ratings.reduceByKey(lambda x, y: x + y)\n",
    "numero_rating_key.take(5)"
   ]
  },
  {
   "cell_type": "code",
   "execution_count": 35,
   "metadata": {},
   "outputs": [
    {
     "data": {
      "text/plain": [
       "[('1', (167, 40)),\n",
       " ('4', (88, 21)),\n",
       " ('8', (540, 139)),\n",
       " ('9', (396, 106)),\n",
       " ('10', (1216, 299))]"
      ]
     },
     "execution_count": 35,
     "metadata": {},
     "output_type": "execute_result"
    }
   ],
   "source": [
    "total = ratings_2000_key.join(numero_rating_key)\n",
    "total.take(5)"
   ]
  },
  {
   "cell_type": "code",
   "execution_count": 36,
   "metadata": {},
   "outputs": [
    {
     "data": {
      "text/plain": [
       "[('10', ((1216, 299), 'GoldenEye (1995)')),\n",
       " ('20', ((57, 13), 'Money Train (1995)')),\n",
       " ('44', ((454, 116), 'Mortal Kombat (1995)')),\n",
       " ('70', ((200, 54), 'From Dusk Till Dawn (1996)')),\n",
       " ('110', ((260, 80), 'Braveheart (1995)'))]"
      ]
     },
     "execution_count": 36,
     "metadata": {},
     "output_type": "execute_result"
    }
   ],
   "source": [
    "pelis_action_2000 = total.join(pelis_action)\n",
    "pelis_action_2000.take(5)"
   ]
  },
  {
   "cell_type": "code",
   "execution_count": 37,
   "metadata": {},
   "outputs": [
    {
     "data": {
      "text/plain": [
       "[('10', (1216, 299)),\n",
       " ('20', (57, 13)),\n",
       " ('44', (454, 116)),\n",
       " ('70', (200, 54)),\n",
       " ('110', (260, 80))]"
      ]
     },
     "execution_count": 37,
     "metadata": {},
     "output_type": "execute_result"
    }
   ],
   "source": [
    "pelis_final = pelis_action_2000.map(lambda x: (x[0], x[1][0]))\n",
    "pelis_final.take(5)"
   ]
  },
  {
   "cell_type": "code",
   "execution_count": 38,
   "metadata": {},
   "outputs": [
    {
     "data": {
      "text/plain": [
       "[('Comun', 1216),\n",
       " ('Comun', 57),\n",
       " ('Comun', 454),\n",
       " ('Comun', 200),\n",
       " ('Comun', 260)]"
      ]
     },
     "execution_count": 38,
     "metadata": {},
     "output_type": "execute_result"
    }
   ],
   "source": [
    "pelis_final_ratings = pelis_final.map(lambda x: (\"Comun\", x[1][0]))\n",
    "pelis_final_ratings.take(5)"
   ]
  },
  {
   "cell_type": "code",
   "execution_count": 39,
   "metadata": {},
   "outputs": [
    {
     "data": {
      "text/plain": [
       "[('Comun', 257794)]"
      ]
     },
     "execution_count": 39,
     "metadata": {},
     "output_type": "execute_result"
    }
   ],
   "source": [
    "pelis_final_ratings_key = pelis_final_ratings.reduceByKey(lambda x, y: x + y)\n",
    "pelis_final_ratings_key.take(1)"
   ]
  },
  {
   "cell_type": "code",
   "execution_count": 40,
   "metadata": {},
   "outputs": [
    {
     "data": {
      "text/plain": [
       "[('Comun', 72834)]"
      ]
     },
     "execution_count": 40,
     "metadata": {},
     "output_type": "execute_result"
    }
   ],
   "source": [
    "pelis_final_count = pelis_final.map(lambda x: (\"Comun\", x[1][1]))\n",
    "pelis_final_count_key = pelis_final_count.reduceByKey(lambda x, y: x + y)\n",
    "pelis_final_count_key.take(1)"
   ]
  },
  {
   "cell_type": "code",
   "execution_count": 41,
   "metadata": {},
   "outputs": [
    {
     "data": {
      "text/plain": [
       "[('Comun', (257794, 72834))]"
      ]
     },
     "execution_count": 41,
     "metadata": {},
     "output_type": "execute_result"
    }
   ],
   "source": [
    "media2 = pelis_final_ratings_key.join(pelis_final_count_key)\n",
    "media2.take(1)"
   ]
  },
  {
   "cell_type": "code",
   "execution_count": 42,
   "metadata": {},
   "outputs": [
    {
     "data": {
      "text/plain": [
       "[3.54]"
      ]
     },
     "execution_count": 42,
     "metadata": {},
     "output_type": "execute_result"
    }
   ],
   "source": [
    "media_2000_accion = media2.map(lambda x: round(x[1][0]/x[1][1],2))\n",
    "media_2000_accion.take(1)"
   ]
  },
  {
   "cell_type": "markdown",
   "metadata": {},
   "source": [
    "## Quinta pregunta: ¿ Cuál es el año en que mayor número de usuarios votaron?"
   ]
  },
  {
   "cell_type": "code",
   "execution_count": 45,
   "metadata": {},
   "outputs": [
    {
     "data": {
      "text/plain": [
       "[['1', '1193', 5, 2000],\n",
       " ['1', '661', 3, 2000],\n",
       " ['1', '914', 3, 2000],\n",
       " ['1', '3408', 4, 2000],\n",
       " ['1', '2355', 5, 2001]]"
      ]
     },
     "execution_count": 45,
     "metadata": {},
     "output_type": "execute_result"
    }
   ],
   "source": [
    "ratings2.take(5)"
   ]
  },
  {
   "cell_type": "code",
   "execution_count": 46,
   "metadata": {},
   "outputs": [
    {
     "data": {
      "text/plain": [
       "[(2000, '914'), (2000, '3408'), (2000, '1197'), (2000, '2804'), (2000, '2791')]"
      ]
     },
     "execution_count": 46,
     "metadata": {},
     "output_type": "execute_result"
    }
   ],
   "source": [
    "rating_user = ratings2.map(lambda x: (x[3], x[1])).distinct()\n",
    "rating_user.take(5)"
   ]
  },
  {
   "cell_type": "code",
   "execution_count": 47,
   "metadata": {},
   "outputs": [],
   "source": [
    "rating_user_map = rating_user.map(lambda x: (x[0], 1))\n",
    "rating_user_key = rating_user_map.reduceByKey(lambda x, y: x + y)"
   ]
  },
  {
   "cell_type": "code",
   "execution_count": 48,
   "metadata": {},
   "outputs": [
    {
     "data": {
      "text/plain": [
       "(2000, 3678)"
      ]
     },
     "execution_count": 48,
     "metadata": {},
     "output_type": "execute_result"
    }
   ],
   "source": [
    "rating_user_key.max(lambda x: x[1])"
   ]
  },
  {
   "cell_type": "markdown",
   "metadata": {},
   "source": [
    "## Sexta pregunta: ¿ Cuál es la película con mejor puntación media?"
   ]
  },
  {
   "cell_type": "code",
   "execution_count": 49,
   "metadata": {},
   "outputs": [],
   "source": [
    "sc.stop()"
   ]
  }
 ],
 "metadata": {
  "kernelspec": {
   "display_name": "Python 3",
   "language": "python",
   "name": "python3"
  },
  "language_info": {
   "codemirror_mode": {
    "name": "ipython",
    "version": 3
   },
   "file_extension": ".py",
   "mimetype": "text/x-python",
   "name": "python",
   "nbconvert_exporter": "python",
   "pygments_lexer": "ipython3",
   "version": "3.7.3"
  }
 },
 "nbformat": 4,
 "nbformat_minor": 2
}
