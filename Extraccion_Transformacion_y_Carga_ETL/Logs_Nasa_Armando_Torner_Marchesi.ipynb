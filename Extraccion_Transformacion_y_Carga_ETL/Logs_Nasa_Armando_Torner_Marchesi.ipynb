{
 "cells": [
  {
   "cell_type": "markdown",
   "metadata": {},
   "source": [
    "Realizado por: Armando Torner Marchesi"
   ]
  },
  {
   "cell_type": "markdown",
   "metadata": {},
   "source": [
    "# Logs NASA"
   ]
  },
  {
   "cell_type": "code",
   "execution_count": 3,
   "metadata": {},
   "outputs": [],
   "source": [
    "sc.stop()"
   ]
  },
  {
   "cell_type": "markdown",
   "metadata": {},
   "source": [
    "Cargamos librerías:"
   ]
  },
  {
   "cell_type": "code",
   "execution_count": 4,
   "metadata": {},
   "outputs": [],
   "source": [
    "from pyspark import SparkContext"
   ]
  },
  {
   "cell_type": "code",
   "execution_count": 5,
   "metadata": {},
   "outputs": [],
   "source": [
    "sc = SparkContext()"
   ]
  },
  {
   "cell_type": "markdown",
   "metadata": {},
   "source": [
    "Cargamos los datos"
   ]
  },
  {
   "cell_type": "code",
   "execution_count": 6,
   "metadata": {},
   "outputs": [],
   "source": [
    "data_file = \"./apache.access.log_small\"\n",
    "raw_data = sc.textFile(data_file)"
   ]
  },
  {
   "cell_type": "markdown",
   "metadata": {},
   "source": [
    "Vemos que hemos cargado bien los datos visualizando los 5 primeros registros"
   ]
  },
  {
   "cell_type": "code",
   "execution_count": 7,
   "metadata": {},
   "outputs": [
    {
     "data": {
      "text/plain": [
       "['in24.inetnebr.com - - [01/Aug/1995:00:00:01 -0400] \"GET /shuttle/missions/sts-68/news/sts-68-mcc-05.txt HTTP/1.0\" 200 1839',\n",
       " 'uplherc.upl.com - - [01/Aug/1995:00:00:07 -0400] \"GET / HTTP/1.0\" 304 0',\n",
       " 'uplherc.upl.com - - [01/Aug/1995:00:00:08 -0400] \"GET /images/ksclogo-medium.gif HTTP/1.0\" 304 0',\n",
       " 'uplherc.upl.com - - [01/Aug/1995:00:00:08 -0400] \"GET /images/MOSAIC-logosmall.gif HTTP/1.0\" 304 0',\n",
       " 'uplherc.upl.com - - [01/Aug/1995:00:00:08 -0400] \"GET /images/USA-logosmall.gif HTTP/1.0\" 304 0']"
      ]
     },
     "execution_count": 7,
     "metadata": {},
     "output_type": "execute_result"
    }
   ],
   "source": [
    "raw_data.take(5)"
   ]
  },
  {
   "cell_type": "markdown",
   "metadata": {},
   "source": [
    "A continuación procedemos con el parseado de los datos:"
   ]
  },
  {
   "cell_type": "code",
   "execution_count": 8,
   "metadata": {},
   "outputs": [],
   "source": [
    "import re\n",
    "def parse_log1(line):\n",
    "    match = re.search('^(\\S+) (\\S+) (\\S+) \\[(\\S+) [-](\\d{4})\\] \"(\\S+)\\s*(\\S+)\\s*(\\S+)\\s*([\\w\\.\\s*]+)?\\s*\"*(\\d{3}) (\\S+)', line)\n",
    "    if match is None:\n",
    "        return 0\n",
    "    else:\n",
    "        return 1\n",
    "n_logs = raw_data.count()"
   ]
  },
  {
   "cell_type": "code",
   "execution_count": 9,
   "metadata": {},
   "outputs": [],
   "source": [
    "def parse_log2(line):\n",
    "    match = re.search('^(\\S+) (\\S+) (\\S+) \\[(\\S+) [-](\\d{4})\\] \"(\\S+)\\s*(\\S+)\\s*(\\S+)\\s*([/\\w\\.\\s*]+)?\\s*\"* (\\d{3}) (\\S+)',line)\n",
    "    if match is None:\n",
    "        match = re.search('^(\\S+) (\\S+) (\\S+) \\[(\\S+) [-](\\d{4})\\] \"(\\S+)\\s*([/\\w\\.]+)>*([\\w/\\s\\.]+)\\s*(\\S+)\\s*(\\d{3})\\s*(\\S+)',line)\n",
    "    if match is None:\n",
    "        return (line, 0)\n",
    "    else:\n",
    "        return (line, 1)\n"
   ]
  },
  {
   "cell_type": "code",
   "execution_count": 10,
   "metadata": {},
   "outputs": [],
   "source": [
    "def map_log(line):\n",
    "    match = re.search('^(\\S+) (\\S+) (\\S+) \\[(\\S+) [-](\\d{4})\\] \"(\\S+)\\s*(\\S+)\\s*(\\S+)\\s*([/\\w\\.\\s*]+)?\\s*\"* (\\d{3}) (\\S+)',line)\n",
    "    if match is None:\n",
    "        match = re.search('^(\\S+) (\\S+) (\\S+) \\[(\\S+) [-](\\d{4})\\] \"(\\S+)\\s*([/\\w\\.]+)>*([\\w/\\s\\.]+)\\s*(\\S+)\\s*(\\d{3})\\s*(\\S+)',line)\n",
    "    return(match.groups())\n",
    "parsed_rdd = raw_data.map(lambda line: parse_log2(line)).filter(lambda line: line[1] == 1).map(lambda line : line[0])\n",
    "parsed_def = parsed_rdd.map(lambda line: map_log(line))"
   ]
  },
  {
   "cell_type": "markdown",
   "metadata": {},
   "source": [
    "### Transformamos en un sqldataframe"
   ]
  },
  {
   "cell_type": "code",
   "execution_count": 18,
   "metadata": {},
   "outputs": [],
   "source": [
    "from pyspark.sql import SQLContext\n",
    "sqlContext = SQLContext(sc)"
   ]
  },
  {
   "cell_type": "code",
   "execution_count": 32,
   "metadata": {},
   "outputs": [],
   "source": [
    "from pyspark.sql import Row\n",
    "from datetime import datetime"
   ]
  },
  {
   "cell_type": "code",
   "execution_count": 40,
   "metadata": {},
   "outputs": [],
   "source": [
    "sql_data = parsed_def.map(lambda p: (Row(Host = p[0],\n",
    "                            Date = datetime.strptime(p[3][:11], \"%d/%b/%Y\"),\n",
    "                            Code = p[-2], Endpoint = p[6],\n",
    "                            Size = p[-1])))                       "
   ]
  },
  {
   "cell_type": "code",
   "execution_count": 41,
   "metadata": {},
   "outputs": [],
   "source": [
    "lognasa_df = sqlContext.createDataFrame(sql_data)\n",
    "lognasa_df.registerTempTable(\"nasa\")"
   ]
  },
  {
   "cell_type": "code",
   "execution_count": 87,
   "metadata": {},
   "outputs": [
    {
     "name": "stdout",
     "output_type": "stream",
     "text": [
      "+----+-------------------+--------------------+--------------------+-----+\n",
      "|Code|               Date|            Endpoint|                Host| Size|\n",
      "+----+-------------------+--------------------+--------------------+-----+\n",
      "| 200|1995-08-01 00:00:00|/shuttle/missions...|   in24.inetnebr.com| 1839|\n",
      "| 304|1995-08-01 00:00:00|                   /|     uplherc.upl.com|    0|\n",
      "| 304|1995-08-01 00:00:00|/images/ksclogo-m...|     uplherc.upl.com|    0|\n",
      "| 304|1995-08-01 00:00:00|/images/MOSAIC-lo...|     uplherc.upl.com|    0|\n",
      "| 304|1995-08-01 00:00:00|/images/USA-logos...|     uplherc.upl.com|    0|\n",
      "| 200|1995-08-01 00:00:00|/images/launch-lo...|ix-esc-ca2-07.ix....| 1713|\n",
      "| 304|1995-08-01 00:00:00|/images/WORLD-log...|     uplherc.upl.com|    0|\n",
      "| 200|1995-08-01 00:00:00|/history/skylab/s...|slppp6.intermind.net| 1687|\n",
      "| 200|1995-08-01 00:00:00|/images/launchmed...|piweba4y.prodigy.com|11853|\n",
      "| 200|1995-08-01 00:00:00|/history/skylab/s...|slppp6.intermind.net| 9202|\n",
      "| 200|1995-08-01 00:00:00|/images/ksclogosm...|slppp6.intermind.net| 3635|\n",
      "| 200|1995-08-01 00:00:00|/history/apollo/i...|ix-esc-ca2-07.ix....| 1173|\n",
      "| 200|1995-08-01 00:00:00|/history/apollo/i...|slppp6.intermind.net| 3047|\n",
      "| 304|1995-08-01 00:00:00|/images/NASA-logo...|     uplherc.upl.com|    0|\n",
      "| 200|1995-08-01 00:00:00|/shuttle/missions...|        133.43.96.45|10566|\n",
      "+----+-------------------+--------------------+--------------------+-----+\n",
      "\n"
     ]
    }
   ],
   "source": [
    "df = sqlContext.sql(\"\"\" SELECT * FROM nasa LIMIT 15\"\"\")\n",
    "df.show()"
   ]
  },
  {
   "cell_type": "code",
   "execution_count": 37,
   "metadata": {},
   "outputs": [
    {
     "data": {
      "text/plain": [
       "(count: 3432, mean: 16051.863636363634, stdev: 53247.81574818679, max: 887988.0, min: 0.0)"
      ]
     },
     "execution_count": 37,
     "metadata": {},
     "output_type": "execute_result"
    }
   ],
   "source": [
    "def convert_long(x):\n",
    "    x = re.sub('[^0-9]',\"\",x) \n",
    "    if x ==\"\":\n",
    "        return 0\n",
    "    else:\n",
    "        return int(x)\n",
    "parsed_def.map(lambda line: convert_long(line[-1])).stats()"
   ]
  },
  {
   "cell_type": "markdown",
   "metadata": {},
   "source": [
    "### Mínimo, media y máximo de las peticiones"
   ]
  },
  {
   "cell_type": "code",
   "execution_count": 39,
   "metadata": {},
   "outputs": [
    {
     "name": "stdout",
     "output_type": "stream",
     "text": [
      "+------+------+-------+\n",
      "|Minimo|Maximo|  Media|\n",
      "+------+------+-------+\n",
      "|     -| 99942|16183.9|\n",
      "+------+------+-------+\n",
      "\n"
     ]
    }
   ],
   "source": [
    "medidas = sqlContext.sql(\"\"\" \n",
    "    SELECT MIN(Size) AS Minimo, MAX(Size) AS Maximo, ROUND(AVG(Size),2) AS Media \n",
    "    FROM nasa \n",
    "    \"\"\")\n",
    "medidas.show()"
   ]
  },
  {
   "cell_type": "markdown",
   "metadata": {},
   "source": [
    "### Numero de peticiones de cada código de respuesta"
   ]
  },
  {
   "cell_type": "code",
   "execution_count": 93,
   "metadata": {},
   "outputs": [
    {
     "name": "stdout",
     "output_type": "stream",
     "text": [
      "+------+------+-------+\n",
      "|Minimo|Maximo|  Media|\n",
      "+------+------+-------+\n",
      "|     -| 99942|16183.9|\n",
      "+------+------+-------+\n",
      "\n"
     ]
    }
   ],
   "source": [
    "medidas = sqlContext.sql(\"\"\" \n",
    "    SELECT MIN(Size) AS Minimo, MAX(Size) AS Maximo, ROUND(AVG(Size),2) AS Media \n",
    "    FROM nasa \n",
    "    \"\"\")\n",
    "medidas.show()"
   ]
  },
  {
   "cell_type": "markdown",
   "metadata": {},
   "source": [
    "### 20 Host visitados más de 10 veces"
   ]
  },
  {
   "cell_type": "code",
   "execution_count": 45,
   "metadata": {},
   "outputs": [
    {
     "name": "stdout",
     "output_type": "stream",
     "text": [
      "+--------------------+\n",
      "|                Host|\n",
      "+--------------------+\n",
      "|  port13.wavenet.com|\n",
      "|www-d1.proxy.aol.com|\n",
      "|       193.84.66.147|\n",
      "|       ras38.srv.net|\n",
      "|delorme.richard.i...|\n",
      "|dd08-050.compuser...|\n",
      "|        133.43.96.45|\n",
      "|marimo.kushiro-ct...|\n",
      "|  rs31-annex3.sfu.ca|\n",
      "|port26.ts1.msstat...|\n",
      "|hsccs_gatorbox07....|\n",
      "|  server.indo.net.id|\n",
      "|mallard2.duc.aubu...|\n",
      "|dialup-2-139.gw.u...|\n",
      "|        hella.stm.it|\n",
      "|prakinf2.prakinf....|\n",
      "|ppp1016.po.iijnet...|\n",
      "|dd08-043.compuser...|\n",
      "|ad10-015.compuser...|\n",
      "|ix-min1-02.ix.net...|\n",
      "+--------------------+\n",
      "\n"
     ]
    }
   ],
   "source": [
    "hosts_visitaos_mas_diez = sqlContext.sql(\"\"\" \n",
    "    SELECT Host \n",
    "    FROM nasa\n",
    "    WHERE Size > 10\n",
    "    ORDER BY Size\n",
    "    LIMIT 20\n",
    "    \"\"\")\n",
    "hosts_visitaos_mas_diez.show()"
   ]
  },
  {
   "cell_type": "markdown",
   "metadata": {},
   "source": [
    "### 10 endpoint más visitados"
   ]
  },
  {
   "cell_type": "code",
   "execution_count": 95,
   "metadata": {},
   "outputs": [
    {
     "name": "stdout",
     "output_type": "stream",
     "text": [
      "+---------------+--------------------+\n",
      "|count(Endpoint)|            Endpoint|\n",
      "+---------------+--------------------+\n",
      "|            167|/images/KSC-logos...|\n",
      "|            160|/images/NASA-logo...|\n",
      "|            122|/images/MOSAIC-lo...|\n",
      "|            120|/images/WORLD-log...|\n",
      "|            118|/images/USA-logos...|\n",
      "|            106|/images/ksclogo-m...|\n",
      "|             85|                   /|\n",
      "|             74|/history/apollo/i...|\n",
      "|             69|/images/launch-lo...|\n",
      "|             66|/images/ksclogosm...|\n",
      "+---------------+--------------------+\n",
      "\n"
     ]
    }
   ],
   "source": [
    "endpoints_mas_visitados = sqlContext.sql(\"\"\"\n",
    "SELECT COUNT(Endpoint), Endpoint\n",
    "FROM nasa\n",
    "GROUP BY Endpoint\n",
    "ORDER BY COUNT (Endpoint) DESC\n",
    "LIMIT 10\"\"\")\n",
    "\n",
    "endpoints_mas_visitados.show()"
   ]
  },
  {
   "cell_type": "markdown",
   "metadata": {},
   "source": [
    "### 10 endpoints más visitados con código distinto de 200"
   ]
  },
  {
   "cell_type": "code",
   "execution_count": 98,
   "metadata": {},
   "outputs": [
    {
     "name": "stdout",
     "output_type": "stream",
     "text": [
      "+---------------+--------------------+\n",
      "|count(Endpoint)|            Endpoint|\n",
      "+---------------+--------------------+\n",
      "|             25|/images/NASA-logo...|\n",
      "|             24|/images/KSC-logos...|\n",
      "|             17|/images/MOSAIC-lo...|\n",
      "|             17|/images/WORLD-log...|\n",
      "|             16|/images/USA-logos...|\n",
      "|             10|/images/ksclogo-m...|\n",
      "|              8|/images/construct...|\n",
      "|              8|/software/winvn/b...|\n",
      "|              8|/software/winvn/w...|\n",
      "|              6|/software/winvn/w...|\n",
      "+---------------+--------------------+\n",
      "\n"
     ]
    }
   ],
   "source": [
    "endpoints_mas_visitados_dist_doscien = sqlContext.sql(\"\"\"\n",
    "SELECT COUNT(Endpoint), Endpoint\n",
    "FROM nasa\n",
    "WHERE Code != 200\n",
    "GROUP BY Endpoint\n",
    "ORDER BY COUNT (Endpoint) DESC\n",
    "LIMIT 10\"\"\")\n",
    "endpoints_mas_visitados_dist_doscien.show()"
   ]
  },
  {
   "cell_type": "markdown",
   "metadata": {},
   "source": [
    "### Número de hosts distintos"
   ]
  },
  {
   "cell_type": "code",
   "execution_count": 52,
   "metadata": {},
   "outputs": [
    {
     "name": "stdout",
     "output_type": "stream",
     "text": [
      "+---------------+\n",
      "|Hosts_Distintos|\n",
      "+---------------+\n",
      "|            311|\n",
      "+---------------+\n",
      "\n"
     ]
    }
   ],
   "source": [
    "host_distintos = sqlContext.sql(\"\"\" \n",
    "    SELECT COUNT (DISTINCT Host) AS Hosts_Distintos\n",
    "    FROM nasa\n",
    "    \"\"\")\n",
    "host_distintos.show()"
   ]
  },
  {
   "cell_type": "markdown",
   "metadata": {},
   "source": [
    "### Contar número de host únicos cada día"
   ]
  },
  {
   "cell_type": "code",
   "execution_count": 65,
   "metadata": {},
   "outputs": [
    {
     "name": "stdout",
     "output_type": "stream",
     "text": [
      "+-------------------+\n",
      "|Hosts_Distintos_Dia|\n",
      "+-------------------+\n",
      "|                311|\n",
      "+-------------------+\n",
      "\n"
     ]
    }
   ],
   "source": [
    "host_distintos_dia = sqlContext.sql(\"\"\" \n",
    "    SELECT COUNT (DISTINCT Host) AS Hosts_Distintos_Dia\n",
    "    FROM nasa\n",
    "    GROUP BY Date\n",
    "    \"\"\")\n",
    "host_distintos_dia.show()"
   ]
  },
  {
   "cell_type": "markdown",
   "metadata": {},
   "source": [
    "Sólo nos da el resultado de un día porque tenemos una base de datos simplificada que únicamente contiene una fecha"
   ]
  },
  {
   "cell_type": "markdown",
   "metadata": {},
   "source": [
    "### Media de peticciones diarias por host"
   ]
  },
  {
   "cell_type": "code",
   "execution_count": 64,
   "metadata": {},
   "outputs": [
    {
     "name": "stdout",
     "output_type": "stream",
     "text": [
      "+------------------+--------------------+\n",
      "|  Media_Peticiones|                Host|\n",
      "+------------------+--------------------+\n",
      "|            6309.0|ix-sea6-23.ix.net...|\n",
      "| 1701.111111111111|grimnet23.idirect...|\n",
      "|           79536.8|        hella.stm.it|\n",
      "|            3260.0|       198.161.85.36|\n",
      "|            2533.0|ix-sd6-29.ix.netc...|\n",
      "| 6860.066666666667|     info.telenor.no|\n",
      "|            3949.6|dd08-029.compuser...|\n",
      "|           27739.0|engei.engei-hs.oy...|\n",
      "|           10371.0|  server.indo.net.id|\n",
      "|           19852.0|in2pc2.med.niigat...|\n",
      "|            547.75|ix-sf10-28.ix.net...|\n",
      "|          16671.75|ip-pdx4-15.telepo...|\n",
      "| 13894.90909090909|   in24.inetnebr.com|\n",
      "|          4216.375|  pwestec.sierra.net|\n",
      "|           3573.75|roseanne06.slip.y...|\n",
      "|10749.333333333334|     204.199.188.113|\n",
      "|            2533.0|        206.24.43.11|\n",
      "|            3260.0|empedocles.cfar.u...|\n",
      "| 3448.818181818182|     pm6a3.sover.net|\n",
      "|  8894.57142857143|www-b5.proxy.aol.com|\n",
      "+------------------+--------------------+\n",
      "only showing top 20 rows\n",
      "\n"
     ]
    }
   ],
   "source": [
    "media_peticiones = sqlContext.sql(\"\"\" \n",
    "    SELECT AVG (Size) AS Media_Peticiones, Host\n",
    "    FROM nasa\n",
    "    GROUP BY Host\n",
    "    \"\"\")\n",
    "media_peticiones.show()"
   ]
  },
  {
   "cell_type": "markdown",
   "metadata": {},
   "source": [
    "### Lista de 40 endpoints distintos que generan un código de respuesta 404"
   ]
  },
  {
   "cell_type": "code",
   "execution_count": 67,
   "metadata": {},
   "outputs": [
    {
     "name": "stdout",
     "output_type": "stream",
     "text": [
      "+--------------------+----+\n",
      "|            Endpoint|Code|\n",
      "+--------------------+----+\n",
      "|/shuttle/resource...| 404|\n",
      "|/pub/winvn/releas...| 404|\n",
      "|/www/software/win...| 404|\n",
      "|/history/history.htm| 404|\n",
      "|/elv/DELTA/uncons...| 404|\n",
      "|     /sts-71/launch/| 404|\n",
      "|/history/apollo/a...| 404|\n",
      "|/history/apollo/a...| 404|\n",
      "|/history/apollo/a...| 404|\n",
      "|/history/apollo/a...| 404|\n",
      "|/history/apollo/a...| 404|\n",
      "|/history/apollo/a...| 404|\n",
      "|/history/apollo/a...| 404|\n",
      "|/history/apollo/a...| 404|\n",
      "|/history/apollo/a...| 404|\n",
      "|/history/apollo/a...| 404|\n",
      "|/history/apollo/a...| 404|\n",
      "|/pub/winvn/releas...| 404|\n",
      "|/pub/winvn/readme...| 404|\n",
      "|/pub/winvn/releas...| 404|\n",
      "+--------------------+----+\n",
      "only showing top 20 rows\n",
      "\n"
     ]
    }
   ],
   "source": [
    "cuarenta_endpoints_respuesta_a0a = sqlContext.sql(\"\"\" \n",
    "    SELECT Endpoint, Code\n",
    "    FROM nasa\n",
    "    WHERE Code = 404\n",
    "    LIMIT 40\n",
    "    \"\"\")\n",
    "cuarenta_endpoints_respuesta_a0a.show()"
   ]
  },
  {
   "cell_type": "markdown",
   "metadata": {},
   "source": [
    "### Top 25 de endpoints que más códigos de respuesta 404 generan"
   ]
  },
  {
   "cell_type": "code",
   "execution_count": 102,
   "metadata": {},
   "outputs": [
    {
     "name": "stdout",
     "output_type": "stream",
     "text": [
      "+--------------------+----+\n",
      "|            Endpoint|Code|\n",
      "+--------------------+----+\n",
      "|/history/history.htm| 404|\n",
      "|/elv/DELTA/uncons...| 404|\n",
      "|     /sts-71/launch/| 404|\n",
      "|/history/apollo/a...| 404|\n",
      "|/history/apollo/a...| 404|\n",
      "|/history/apollo/a...| 404|\n",
      "|/history/apollo/a...| 404|\n",
      "|/history/apollo/a...| 404|\n",
      "|/history/apollo/a...| 404|\n",
      "|/history/apollo/a...| 404|\n",
      "|/history/apollo/a...| 404|\n",
      "|/history/apollo/a...| 404|\n",
      "|/history/apollo/a...| 404|\n",
      "|/history/apollo/a...| 404|\n",
      "|/pub/winvn/releas...| 404|\n",
      "|/pub/winvn/readme...| 404|\n",
      "|/pub/winvn/releas...| 404|\n",
      "|/pub/winvn/readme...| 404|\n",
      "|/pub/winvn/releas...| 404|\n",
      "|/shuttle/resource...| 404|\n",
      "+--------------------+----+\n",
      "only showing top 20 rows\n",
      "\n"
     ]
    }
   ],
   "source": [
    "top_endpoints_respuesta_a0a = sqlContext.sql(\"\"\" \n",
    "    SELECT Endpoint, Code\n",
    "    FROM nasa\n",
    "    WHERE Code = 404\n",
    "    ORDER BY Size DESC\n",
    "    LIMIT 25\n",
    "    \"\"\")\n",
    "top_endpoints_respuesta_a0a.show()"
   ]
  },
  {
   "cell_type": "markdown",
   "metadata": {},
   "source": [
    "### Top 5 de días que se generaron códigos de respuesta 404"
   ]
  },
  {
   "cell_type": "code",
   "execution_count": null,
   "metadata": {},
   "outputs": [],
   "source": [
    "top_dias_respuesta_a0a = sqlContext.sql(\"\"\" \n",
    "    SELECT Date, Code\n",
    "    FROM nasa\n",
    "    WHERE Code = 404\n",
    "    ORDER BY Size\n",
    "    GROUP BY Date\n",
    "    LIMIT 5\n",
    "    \"\"\")\n",
    "top_dias_respuesta_a0a.show()"
   ]
  }
 ],
 "metadata": {
  "kernelspec": {
   "display_name": "Python 3",
   "language": "python",
   "name": "python3"
  },
  "language_info": {
   "codemirror_mode": {
    "name": "ipython",
    "version": 3
   },
   "file_extension": ".py",
   "mimetype": "text/x-python",
   "name": "python",
   "nbconvert_exporter": "python",
   "pygments_lexer": "ipython3",
   "version": "3.7.3"
  }
 },
 "nbformat": 4,
 "nbformat_minor": 2
}
